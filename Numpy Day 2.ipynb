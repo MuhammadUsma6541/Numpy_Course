{
 "cells": [
  {
   "cell_type": "code",
   "execution_count": 1,
   "id": "54a187eb",
   "metadata": {},
   "outputs": [],
   "source": [
    "import numpy as np"
   ]
  },
  {
   "cell_type": "markdown",
   "id": "51d76d81",
   "metadata": {},
   "source": [
    "# Randomization"
   ]
  },
  {
   "cell_type": "code",
   "execution_count": 2,
   "id": "9283bb77",
   "metadata": {},
   "outputs": [
    {
     "name": "stdout",
     "output_type": "stream",
     "text": [
      "[[ 7  6  6  1  3  0  0  1  6  8  1  4  9  0  6]\n",
      " [11 11 12 13 10 12 15 13 11 18 12 14 18 19 19]\n",
      " [24 20 25 26 21 28 25 28 29 26 22 21 21 24 25]]\n"
     ]
    }
   ],
   "source": [
    "X1 = np.random.randint(0,10,15)\n",
    "X2 = np.random.randint(10,20,15)\n",
    "X3 = np.random.randint(20,30,15)\n",
    "data=np.array([X1,X2,X3])\n",
    "print(data)"
   ]
  },
  {
   "cell_type": "code",
   "execution_count": 4,
   "id": "ee76bbdd",
   "metadata": {},
   "outputs": [
    {
     "data": {
      "text/plain": [
       "array([[1., 0.],\n",
       "       [0., 1.]])"
      ]
     },
     "execution_count": 4,
     "metadata": {},
     "output_type": "execute_result"
    }
   ],
   "source": [
    "np.eye(2)\n",
    "#  np.eye(N, M=None, k=0, dtype=<class 'float'>, order='C', *, like=None)"
   ]
  },
  {
   "cell_type": "code",
   "execution_count": 5,
   "id": "4166d161",
   "metadata": {},
   "outputs": [],
   "source": [
    "import time"
   ]
  },
  {
   "cell_type": "code",
   "execution_count": 9,
   "id": "105f77d9",
   "metadata": {},
   "outputs": [],
   "source": [
    "SIZE=1000000\n",
    "L1=range(SIZE)\n",
    "L2=range(SIZE)"
   ]
  },
  {
   "cell_type": "code",
   "execution_count": 10,
   "id": "1379961d",
   "metadata": {},
   "outputs": [],
   "source": [
    "A1=np.arange(SIZE)\n",
    "A2=np.arange(SIZE)"
   ]
  },
  {
   "cell_type": "markdown",
   "id": "86d2caaf",
   "metadata": {},
   "source": [
    "# for list time taken"
   ]
  },
  {
   "cell_type": "code",
   "execution_count": 12,
   "id": "0db82ac4",
   "metadata": {},
   "outputs": [
    {
     "name": "stdout",
     "output_type": "stream",
     "text": [
      "251.692533493042\n"
     ]
    }
   ],
   "source": [
    "start=time.time()\n",
    "result=[(x+y)for x,y in zip(L1,L2)]\n",
    "end=time.time()\n",
    "print((end-start)*1000)"
   ]
  },
  {
   "cell_type": "markdown",
   "id": "d5fa2ec1",
   "metadata": {},
   "source": [
    "# for numpy time taken"
   ]
  },
  {
   "cell_type": "code",
   "execution_count": 14,
   "id": "4dabe1ca",
   "metadata": {},
   "outputs": [
    {
     "name": "stdout",
     "output_type": "stream",
     "text": [
      "0.0\n",
      "# now see that the numpy is more speedy than a python list\n"
     ]
    }
   ],
   "source": [
    "start=time.time()\n",
    "result=A1+A2\n",
    "end=time.time()\n",
    "print((end-start)*1000)\n",
    "print(\"# now see that the numpy is more speedy than a python list\")"
   ]
  },
  {
   "cell_type": "markdown",
   "id": "b442b859",
   "metadata": {},
   "source": [
    "# Dimentions"
   ]
  },
  {
   "cell_type": "code",
   "execution_count": 15,
   "id": "df62bda4",
   "metadata": {},
   "outputs": [
    {
     "data": {
      "text/plain": [
       "1"
      ]
     },
     "execution_count": 15,
     "metadata": {},
     "output_type": "execute_result"
    }
   ],
   "source": [
    "a=np.array([1,2,3])\n",
    "a.ndim"
   ]
  },
  {
   "cell_type": "code",
   "execution_count": 16,
   "id": "fe2f8280",
   "metadata": {},
   "outputs": [
    {
     "data": {
      "text/plain": [
       "4"
      ]
     },
     "execution_count": 16,
     "metadata": {},
     "output_type": "execute_result"
    }
   ],
   "source": [
    "numpy=np.array([1,2,3])\n",
    "numpy.itemsize"
   ]
  },
  {
   "cell_type": "code",
   "execution_count": 17,
   "id": "62290b17",
   "metadata": {},
   "outputs": [
    {
     "data": {
      "text/plain": [
       "3"
      ]
     },
     "execution_count": 17,
     "metadata": {},
     "output_type": "execute_result"
    }
   ],
   "source": [
    "numpy.size"
   ]
  },
  {
   "cell_type": "code",
   "execution_count": 18,
   "id": "1b2f0ec3",
   "metadata": {},
   "outputs": [
    {
     "data": {
      "text/plain": [
       "(2, 3)"
      ]
     },
     "execution_count": 18,
     "metadata": {},
     "output_type": "execute_result"
    }
   ],
   "source": [
    "# shape of the arrays\n",
    "numpy=np.array([[1,2,3],[4,5,6]])\n",
    "numpy.shape"
   ]
  },
  {
   "cell_type": "code",
   "execution_count": 19,
   "id": "cb26932f",
   "metadata": {},
   "outputs": [
    {
     "data": {
      "text/plain": [
       "(3, 3)"
      ]
     },
     "execution_count": 19,
     "metadata": {},
     "output_type": "execute_result"
    }
   ],
   "source": [
    "numpy=np.array([[1,2,3],[4,5,6],[7,8,9]])\n",
    "numpy.shape"
   ]
  },
  {
   "cell_type": "code",
   "execution_count": 20,
   "id": "5d4304ff",
   "metadata": {},
   "outputs": [
    {
     "data": {
      "text/plain": [
       "2"
      ]
     },
     "execution_count": 20,
     "metadata": {},
     "output_type": "execute_result"
    }
   ],
   "source": [
    "numpy.ndim"
   ]
  },
  {
   "cell_type": "code",
   "execution_count": 22,
   "id": "ce59e5df",
   "metadata": {},
   "outputs": [],
   "source": [
    "three_D=np.array([[[1,2,3],[4,5,6]],[[1,2,3],[4,5,6]]])"
   ]
  },
  {
   "cell_type": "code",
   "execution_count": 24,
   "id": "77ce6c3b",
   "metadata": {},
   "outputs": [
    {
     "data": {
      "text/plain": [
       "3"
      ]
     },
     "execution_count": 24,
     "metadata": {},
     "output_type": "execute_result"
    }
   ],
   "source": [
    "three_D.ndim"
   ]
  },
  {
   "cell_type": "code",
   "execution_count": 26,
   "id": "dceb29d7",
   "metadata": {},
   "outputs": [
    {
     "data": {
      "text/plain": [
       "(2, 2, 3)"
      ]
     },
     "execution_count": 26,
     "metadata": {},
     "output_type": "execute_result"
    }
   ],
   "source": [
    "three_D.shape"
   ]
  },
  {
   "cell_type": "code",
   "execution_count": 27,
   "id": "faea6130",
   "metadata": {},
   "outputs": [
    {
     "data": {
      "text/plain": [
       "4"
      ]
     },
     "execution_count": 27,
     "metadata": {},
     "output_type": "execute_result"
    }
   ],
   "source": [
    "a=np.array([1,2,3])\n",
    "a.itemsize"
   ]
  },
  {
   "cell_type": "code",
   "execution_count": 30,
   "id": "954c4b92",
   "metadata": {},
   "outputs": [
    {
     "name": "stdout",
     "output_type": "stream",
     "text": [
      "3\n",
      "# size => tells the number of elements in the array\n"
     ]
    }
   ],
   "source": [
    "a=np.array([1,2,3])\n",
    "print(a.size)\n",
    "print(\"# size => tells the number of elements in the array\")"
   ]
  },
  {
   "cell_type": "code",
   "execution_count": 31,
   "id": "fab60188",
   "metadata": {},
   "outputs": [
    {
     "data": {
      "text/plain": [
       "6"
      ]
     },
     "execution_count": 31,
     "metadata": {},
     "output_type": "execute_result"
    }
   ],
   "source": [
    "numpy=np.array([[1,2,3],[4,5,6]])\n",
    "numpy.size"
   ]
  },
  {
   "cell_type": "code",
   "execution_count": null,
   "id": "49e2ed01",
   "metadata": {},
   "outputs": [],
   "source": []
  }
 ],
 "metadata": {
  "kernelspec": {
   "display_name": "Python 3 (ipykernel)",
   "language": "python",
   "name": "python3"
  },
  "language_info": {
   "codemirror_mode": {
    "name": "ipython",
    "version": 3
   },
   "file_extension": ".py",
   "mimetype": "text/x-python",
   "name": "python",
   "nbconvert_exporter": "python",
   "pygments_lexer": "ipython3",
   "version": "3.11.5"
  }
 },
 "nbformat": 4,
 "nbformat_minor": 5
}
