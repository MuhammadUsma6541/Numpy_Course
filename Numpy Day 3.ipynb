{
 "cells": [
  {
   "cell_type": "code",
   "execution_count": 1,
   "id": "251c030a",
   "metadata": {},
   "outputs": [],
   "source": [
    "import numpy as np\n",
    "import time\n",
    "import sys"
   ]
  },
  {
   "cell_type": "markdown",
   "id": "cc7ae884",
   "metadata": {},
   "source": [
    "# Numpy vs python list in memory allocation"
   ]
  },
  {
   "cell_type": "code",
   "execution_count": 2,
   "id": "1257268a",
   "metadata": {},
   "outputs": [],
   "source": [
    "s=range(1000)"
   ]
  },
  {
   "cell_type": "code",
   "execution_count": 3,
   "id": "16ef3692",
   "metadata": {},
   "outputs": [
    {
     "name": "stdout",
     "output_type": "stream",
     "text": [
      "28000\n"
     ]
    }
   ],
   "source": [
    "print(sys.getsizeof(5)*len(s))"
   ]
  },
  {
   "cell_type": "code",
   "execution_count": 4,
   "id": "9171c47b",
   "metadata": {},
   "outputs": [],
   "source": [
    "numpy=np.arange(1000)"
   ]
  },
  {
   "cell_type": "code",
   "execution_count": 5,
   "id": "19426430",
   "metadata": {},
   "outputs": [
    {
     "name": "stdout",
     "output_type": "stream",
     "text": [
      "1000\n",
      "4\n"
     ]
    }
   ],
   "source": [
    "print(numpy.size)\n",
    "print(numpy.itemsize)"
   ]
  },
  {
   "cell_type": "code",
   "execution_count": 6,
   "id": "a1362d42",
   "metadata": {},
   "outputs": [
    {
     "name": "stdout",
     "output_type": "stream",
     "text": [
      "4000\n"
     ]
    }
   ],
   "source": [
    "print(numpy.itemsize*numpy.size)"
   ]
  },
  {
   "cell_type": "markdown",
   "id": "99dbbefc",
   "metadata": {},
   "source": [
    "# Python list"
   ]
  },
  {
   "cell_type": "code",
   "execution_count": 7,
   "id": "96bf12d0",
   "metadata": {},
   "outputs": [],
   "source": [
    "x=range(1000)"
   ]
  },
  {
   "cell_type": "code",
   "execution_count": 8,
   "id": "4831a974",
   "metadata": {},
   "outputs": [
    {
     "data": {
      "text/plain": [
       "28"
      ]
     },
     "execution_count": 8,
     "metadata": {},
     "output_type": "execute_result"
    }
   ],
   "source": [
    "sys.getsizeof(11)"
   ]
  },
  {
   "cell_type": "code",
   "execution_count": 9,
   "id": "fe66799d",
   "metadata": {},
   "outputs": [
    {
     "name": "stdout",
     "output_type": "stream",
     "text": [
      " it means an element takes 28 bites in list\n"
     ]
    }
   ],
   "source": [
    "print(\" it means an element takes 28 bites in list\")"
   ]
  },
  {
   "cell_type": "code",
   "execution_count": 10,
   "id": "5a50e175",
   "metadata": {},
   "outputs": [
    {
     "data": {
      "text/plain": [
       "1000"
      ]
     },
     "execution_count": 10,
     "metadata": {},
     "output_type": "execute_result"
    }
   ],
   "source": [
    "len(x)"
   ]
  },
  {
   "cell_type": "code",
   "execution_count": 11,
   "id": "fc9ca951",
   "metadata": {},
   "outputs": [
    {
     "data": {
      "text/plain": [
       "28000"
      ]
     },
     "execution_count": 11,
     "metadata": {},
     "output_type": "execute_result"
    }
   ],
   "source": [
    "sys.getsizeof(11)*len(x)"
   ]
  },
  {
   "cell_type": "markdown",
   "id": "168e1bb9",
   "metadata": {},
   "source": [
    "# NUMPY"
   ]
  },
  {
   "cell_type": "code",
   "execution_count": 12,
   "id": "b3bd9d32",
   "metadata": {},
   "outputs": [],
   "source": [
    "numpy=np.arange(1000)"
   ]
  },
  {
   "cell_type": "code",
   "execution_count": 13,
   "id": "19d1df7b",
   "metadata": {},
   "outputs": [
    {
     "data": {
      "text/plain": [
       "1000"
      ]
     },
     "execution_count": 13,
     "metadata": {},
     "output_type": "execute_result"
    }
   ],
   "source": [
    "numpy.size"
   ]
  },
  {
   "cell_type": "code",
   "execution_count": 14,
   "id": "a343ab82",
   "metadata": {},
   "outputs": [
    {
     "data": {
      "text/plain": [
       "4"
      ]
     },
     "execution_count": 14,
     "metadata": {},
     "output_type": "execute_result"
    }
   ],
   "source": [
    "numpy.itemsize"
   ]
  },
  {
   "cell_type": "code",
   "execution_count": 15,
   "id": "19e992f9",
   "metadata": {},
   "outputs": [
    {
     "data": {
      "text/plain": [
       "4000"
      ]
     },
     "execution_count": 15,
     "metadata": {},
     "output_type": "execute_result"
    }
   ],
   "source": [
    "numpy.itemsize*numpy.size"
   ]
  },
  {
   "cell_type": "markdown",
   "id": "f22b6657",
   "metadata": {},
   "source": [
    "# element wise operation 1.list"
   ]
  },
  {
   "cell_type": "code",
   "execution_count": 17,
   "id": "03adfbda",
   "metadata": {},
   "outputs": [
    {
     "data": {
      "text/plain": [
       "[12.33, 14.55, 17.22, 99.1]"
      ]
     },
     "execution_count": 17,
     "metadata": {},
     "output_type": "execute_result"
    }
   ],
   "source": [
    "height=[12.33,14.55,17.22,99.1]\n",
    "height"
   ]
  },
  {
   "cell_type": "code",
   "execution_count": 18,
   "id": "eecd0b52",
   "metadata": {},
   "outputs": [
    {
     "data": {
      "text/plain": [
       "[33.33, 56.43, 67.74, 33.87]"
      ]
     },
     "execution_count": 18,
     "metadata": {},
     "output_type": "execute_result"
    }
   ],
   "source": [
    "weight=[33.33,56.43,67.74,33.87]\n",
    "weight"
   ]
  },
  {
   "cell_type": "code",
   "execution_count": 22,
   "id": "21bda47e",
   "metadata": {},
   "outputs": [
    {
     "ename": "TypeError",
     "evalue": "unsupported operand type(s) for ** or pow(): 'list' and 'int'",
     "output_type": "error",
     "traceback": [
      "\u001b[1;31m---------------------------------------------------------------------------\u001b[0m",
      "\u001b[1;31mTypeError\u001b[0m                                 Traceback (most recent call last)",
      "Cell \u001b[1;32mIn[22], line 1\u001b[0m\n\u001b[1;32m----> 1\u001b[0m bmi\u001b[38;5;241m=\u001b[39mweight\u001b[38;5;241m/\u001b[39mheight\u001b[38;5;241m*\u001b[39m\u001b[38;5;241m*\u001b[39m\u001b[38;5;241m2\u001b[39m\n",
      "\u001b[1;31mTypeError\u001b[0m: unsupported operand type(s) for ** or pow(): 'list' and 'int'"
     ]
    }
   ],
   "source": [
    "bmi=weight/height**2"
   ]
  },
  {
   "cell_type": "code",
   "execution_count": 23,
   "id": "dfb1666d",
   "metadata": {},
   "outputs": [],
   "source": [
    "# now in numpy"
   ]
  },
  {
   "cell_type": "code",
   "execution_count": 24,
   "id": "39bc530d",
   "metadata": {},
   "outputs": [],
   "source": [
    "height=np.array([12.33,14.55,17.22,99.1])\n",
    "weight=np.array([33.33,56.43,67.74,33.87])"
   ]
  },
  {
   "cell_type": "code",
   "execution_count": 25,
   "id": "f86b0e46",
   "metadata": {},
   "outputs": [
    {
     "name": "stdout",
     "output_type": "stream",
     "text": [
      "[0.21923463 0.2665533  0.22844355 0.0034488 ]\n"
     ]
    }
   ],
   "source": [
    "bmi=weight/height**2\n",
    "print(bmi)"
   ]
  },
  {
   "cell_type": "code",
   "execution_count": null,
   "id": "3b7db828",
   "metadata": {},
   "outputs": [],
   "source": []
  }
 ],
 "metadata": {
  "kernelspec": {
   "display_name": "Python 3 (ipykernel)",
   "language": "python",
   "name": "python3"
  },
  "language_info": {
   "codemirror_mode": {
    "name": "ipython",
    "version": 3
   },
   "file_extension": ".py",
   "mimetype": "text/x-python",
   "name": "python",
   "nbconvert_exporter": "python",
   "pygments_lexer": "ipython3",
   "version": "3.11.5"
  }
 },
 "nbformat": 4,
 "nbformat_minor": 5
}
